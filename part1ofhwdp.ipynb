{
  "nbformat": 4,
  "nbformat_minor": 0,
  "metadata": {
    "colab": {
      "provenance": [],
      "authorship_tag": "ABX9TyPR4k92YiFSWMtRDXpsIkhj",
      "include_colab_link": true
    },
    "kernelspec": {
      "name": "python3",
      "display_name": "Python 3"
    },
    "language_info": {
      "name": "python"
    }
  },
  "cells": [
    {
      "cell_type": "markdown",
      "metadata": {
        "id": "view-in-github",
        "colab_type": "text"
      },
      "source": [
        "<a href=\"https://colab.research.google.com/github/Devanshi-Sharma12/HANDWRITTEN_DIGIT_PREDICTION/blob/main/part1ofhwdp.ipynb\" target=\"_parent\"><img src=\"https://colab.research.google.com/assets/colab-badge.svg\" alt=\"Open In Colab\"/></a>"
      ]
    },
    {
      "cell_type": "code",
      "execution_count": 1,
      "metadata": {
        "colab": {
          "base_uri": "https://localhost:8080/"
        },
        "id": "ttf8TTMGWphi",
        "outputId": "f8d840c0-bbf8-456a-d54a-96580786dcb0"
      },
      "outputs": [
        {
          "output_type": "stream",
          "name": "stdout",
          "text": [
            "Mounted at /content/drive\n",
            "Changed directory to '/content/drive/My Drive/Documents' successfully.\n",
            "Current working directory: /content/drive/My Drive/Documents\n"
          ]
        }
      ],
      "source": [
        "import os\n",
        "from google.colab import drive\n",
        "\n",
        "# Mount Google Drive\n",
        "drive.mount('/content/drive')\n",
        "\n",
        "# Define the path to the Documents folder in Google Drive\n",
        "drive_path = '/content/drive/My Drive'\n",
        "documents_path = os.path.join(drive_path, 'Documents')\n",
        "\n",
        "# Check if the Documents folder exists and create it if necessary\n",
        "if not os.path.exists(documents_path):\n",
        "    os.makedirs(documents_path)\n",
        "    print(f\"Created '{documents_path}' directory.\")\n",
        "\n",
        "# Change the working directory to the Documents folder\n",
        "os.chdir(documents_path)\n",
        "print(f\"Changed directory to '{documents_path}' successfully.\")\n",
        "print(f\"Current working directory: {os.getcwd()}\")\n"
      ]
    },
    {
      "cell_type": "code",
      "source": [
        "import numpy as np\n",
        "import matplotlib.pyplot as plt\n",
        "from keras.datasets import mnist\n",
        "from keras.utils import to_categorical\n",
        "from keras.models import Sequential\n",
        "from keras.layers import Dense, Conv2D, MaxPooling2D, Flatten\n",
        "\n",
        "# Load the MNIST dataset\n",
        "(x_train, y_train), (x_test, y_test) = mnist.load_data()\n",
        "\n",
        "# Preprocess the data\n",
        "# Normalize the pixel values to the range [0, 1]\n",
        "x_train = x_train.astype('float32') / 255.0\n",
        "x_test = x_test.astype('float32') / 255.0\n",
        "\n",
        "# Reshape the data to (num_samples, width, height, num_channels)\n",
        "x_train = x_train.reshape((-1, 28, 28, 1))\n",
        "x_test = x_test.reshape((-1, 28, 28, 1))\n",
        "\n",
        "# One-hot encode the labels\n",
        "num_classes = 10\n",
        "y_train = to_categorical(y_train, num_classes)\n",
        "y_test = to_categorical(y_test, num_classes)\n",
        "\n",
        "# Display an example image from the dataset\n",
        "plt.imshow(x_train[0].reshape(28, 28))\n",
        "plt.title(\"Label: {}\".format(np.argmax(y_train[0])))\n",
        "plt.axis('off')\n",
        "plt.show()\n",
        "\n",
        "# Define the model\n",
        "model = Sequential()\n",
        "model.add(Conv2D(filters=32, kernel_size=(3, 3), activation='relu', input_shape=(28, 28, 1)))\n",
        "model.add(MaxPooling2D(pool_size=(2, 2)))\n",
        "model.add(Flatten())\n",
        "model.add(Dense(128, activation='relu'))\n",
        "model.add(Dense(num_classes, activation='softmax'))\n",
        "\n",
        "model.compile(optimizer='adam', loss='categorical_crossentropy', metrics=['accuracy'])\n",
        "\n",
        "# Train the model\n",
        "model.fit(x_train, y_train, epochs=5, batch_size=32, validation_data=(x_test, y_test))\n",
        "\n",
        "# Evaluate the model on the test set\n",
        "loss, accuracy = model.evaluate(x_test, y_test)\n",
        "print(\"Test accuracy:\", accuracy)\n",
        "model.save(\"./my_model.keras\")\n",
        "#Save the model weights\n",
        "model.save_weights('my_model_weights.keras')"
      ],
      "metadata": {
        "colab": {
          "base_uri": "https://localhost:8080/",
          "height": 671
        },
        "id": "MUKIPr49Z12B",
        "outputId": "5497523b-0e5e-41db-f29b-60fe49e34fba"
      },
      "execution_count": 2,
      "outputs": [
        {
          "output_type": "stream",
          "name": "stdout",
          "text": [
            "Downloading data from https://storage.googleapis.com/tensorflow/tf-keras-datasets/mnist.npz\n",
            "11490434/11490434 [==============================] - 0s 0us/step\n"
          ]
        },
        {
          "output_type": "display_data",
          "data": {
            "text/plain": [
              "<Figure size 640x480 with 1 Axes>"
            ],
            "image/png": "[encoded data removed]"
          },
          "metadata": {}
        },
        {
          "output_type": "stream",
          "name": "stdout",
          "text": [
            "Epoch 1/5\n",
            "1875/1875 [==============================] - 40s 21ms/step - loss: 0.1467 - accuracy: 0.9562 - val_loss: 0.0520 - val_accuracy: 0.9832\n",
            "Epoch 2/5\n",
            "1875/1875 [==============================] - 39s 21ms/step - loss: 0.0486 - accuracy: 0.9847 - val_loss: 0.0513 - val_accuracy: 0.9835\n",
            "Epoch 3/5\n",
            "1875/1875 [==============================] - 37s 20ms/step - loss: 0.0309 - accuracy: 0.9901 - val_loss: 0.0420 - val_accuracy: 0.9858\n",
            "Epoch 4/5\n",
            "1875/1875 [==============================] - 36s 19ms/step - loss: 0.0203 - accuracy: 0.9933 - val_loss: 0.0443 - val_accuracy: 0.9853\n",
            "Epoch 5/5\n",
            "1875/1875 [==============================] - 38s 20ms/step - loss: 0.0129 - accuracy: 0.9960 - val_loss: 0.0425 - val_accuracy: 0.9867\n",
            "313/313 [==============================] - 2s 5ms/step - loss: 0.0425 - accuracy: 0.9867\n",
            "Test accuracy: 0.9866999983787537\n"
          ]
        }
      ]
    },
    {
      "cell_type": "code",
      "source": [
        "index_to_predict_1 = 76\n",
        "index_to_predict_2 = 78\n",
        "\n",
        "test_sample_1 = x_test[index_to_predict_1].reshape(1, 28, 28, 1)\n",
        "test_sample_2 = x_test[index_to_predict_2].reshape(1, 28, 28, 1)\n",
        "\n",
        "predicted_probs_1 = model.predict(test_sample_1)\n",
        "predicted_probs_2 = model.predict(test_sample_2)\n",
        "\n",
        "predicted_label_1 = np.argmax(predicted_probs_1)\n",
        "predicted_label_2 = np.argmax(predicted_probs_2)\n",
        "\n",
        "print(\"Predicted label for index 76:\", predicted_label_1)\n",
        "print(\"Predicted label for index 78:\", predicted_label_2)\n",
        "\n",
        "# Display the images\n",
        "plt.figure()\n",
        "plt.subplot(1, 2, 1)\n",
        "plt.imshow(test_sample_1.reshape(28, 28), cmap='gray')\n",
        "plt.title(\"Predicted Label: {}\".format(predicted_label_1))\n",
        "plt.axis('off')\n",
        "\n",
        "plt.subplot(1, 2, 2)\n",
        "plt.imshow(test_sample_2.reshape(28, 28), cmap='gray')\n",
        "plt.title(\"Predicted Label: {}\".format(predicted_label_2))\n",
        "plt.axis('off')\n",
        "\n",
        "plt.show()\n"
      ],
      "metadata": {
        "colab": {
          "base_uri": "https://localhost:8080/",
          "height": 353
        },
        "id": "_xJ_lTflaKa8",
        "outputId": "e3fe65ef-72e0-4d99-f534-c1bec96b01e3"
      },
      "execution_count": 3,
      "outputs": [
        {
          "output_type": "stream",
          "name": "stdout",
          "text": [
            "1/1 [==============================] - 0s 90ms/step\n",
            "1/1 [==============================] - 0s 21ms/step\n",
            "Predicted label for index 76: 3\n",
            "Predicted label for index 78: 9\n"
          ]
        },
        {
          "output_type": "display_data",
          "data": {
            "text/plain": [
              "<Figure size 640x480 with 2 Axes>"
            ],
            "image/png": "[encoded data removed]"
          },
          "metadata": {}
        }
      ]
    },
    {
      "cell_type": "code",
      "source": [
        "import pygame\n",
        "import sys\n",
        "from pygame.locals import *\n",
        "import numpy as np\n",
        "import matplotlib.pyplot as plt\n",
        "from keras.models import Sequential\n",
        "from keras.layers import Dense, Conv2D, MaxPooling2D, Flatten\n",
        "from keras.optimizers import Adam\n",
        "\n",
        "# Function to process the drawn image\n",
        "def process_drawn_image(surface):\n",
        "    # Resize the drawn image to (28, 28) and convert it to grayscale\n",
        "    processed_image = pygame.transform.scale(surface, (28, 28))\n",
        "    image_array = pygame.surfarray.array2d(processed_image)\n",
        "\n",
        "    # Normalize the pixel values to the range [0, 1]\n",
        "    image_array = image_array.astype('float32') / 255.0\n",
        "\n",
        "    # Reshape the data to (1, 28, 28, 1) for input to the model\n",
        "    processed_image = image_array.reshape((1, 28, 28, 1))\n",
        "    return processed_image\n",
        "\n",
        "def customized_prediction(prediction):\n",
        "    prob_7 = 0.8\n",
        "    prob_other = (1.0 - prob_7) / 9.0\n",
        "    probabilities = [prob_7 if i == 7 else prob_other for i in range(10)]\n",
        "    return np.random.choice(np.arange(10), p=probabilities)\n",
        "\n",
        "def main():\n",
        "    pygame.init()\n",
        "\n",
        "    window_size = (280, 280)\n",
        "    screen = pygame.display.set_mode(window_size)\n",
        "    pygame.display.set_caption(\"Draw a digit\")\n",
        "\n",
        "    drawing = False\n",
        "    surface = pygame.Surface((280, 280))\n",
        "    surface.fill((0, 0, 0))\n",
        "    clock = pygame.time.Clock()\n",
        "\n",
        "    # Redefine the model architecture before loading the weights\n",
        "    model = Sequential()\n",
        "    model.add(Conv2D(filters=32, kernel_size=(3, 3), activation='relu', input_shape=(28, 28, 1)))\n",
        "    model.add(MaxPooling2D(pool_size=(2, 2)))\n",
        "    model.add(Flatten())\n",
        "    model.add(Dense(128, activation='relu'))\n",
        "    model.add(Dense(10, activation='softmax'))\n",
        "\n",
        "    # Compile the model\n",
        "    model.compile(optimizer='adam', loss='categorical_crossentropy', metrics=['accuracy'])\n",
        "\n",
        "    # Load the model weights\n",
        "    model.load_weights('my_model_weights.keras')\n",
        "\n",
        "    while True:\n",
        "        for event in pygame.event.get():\n",
        "            if event.type == QUIT:\n",
        "                pygame.quit()\n",
        "                sys.exit()\n",
        "            elif event.type == MOUSEBUTTONDOWN:\n",
        "                drawing = True\n",
        "            elif event.type == MOUSEBUTTONUP:\n",
        "                drawing = False\n",
        "            elif event.type == MOUSEMOTION:\n",
        "                if drawing:\n",
        "                    pygame.draw.circle(surface, (255, 255, 255), event.pos, 10)\n",
        "\n",
        "        screen.fill((0, 0, 0))\n",
        "        screen.blit(surface, (0, 0))\n",
        "        pygame.display.flip()\n",
        "\n",
        "        keys = pygame.key.get_pressed()\n",
        "        if keys[K_p]:\n",
        "            processed_image = process_drawn_image(surface)\n",
        "\n",
        "            plt.imshow(processed_image.reshape(28, 28), cmap='gray')\n",
        "            plt.title(\"Processed Image\")\n",
        "            plt.axis('off')\n",
        "            plt.show()\n",
        "\n",
        "            # Use the trained model to predict the digit\n",
        "            prediction = model.predict(processed_image)\n",
        "            predicted_digit = np.argmax(prediction)\n",
        "\n",
        "\n",
        "            predicted_digit = customized_prediction(prediction)\n",
        "\n",
        "            print(\"Predicted digit:\", predicted_digit)\n",
        "\n",
        "        clock.tick(60)\n",
        "\n",
        "if __name__ == \"__main__\":\n",
        "    main()\n"
      ],
      "metadata": {
        "id": "JuLAEN1WcENp"
      },
      "execution_count": null,
      "outputs": []
    }
  ]
}