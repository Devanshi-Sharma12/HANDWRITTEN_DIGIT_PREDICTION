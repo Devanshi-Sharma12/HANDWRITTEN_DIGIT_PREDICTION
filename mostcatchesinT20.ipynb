{
  "nbformat": 4,
  "nbformat_minor": 0,
  "metadata": {
    "colab": {
      "provenance": [],
      "authorship_tag": "ABX9TyPyhc/F2/Cxc7JbwTzMcGKF",
      "include_colab_link": true
    },
    "kernelspec": {
      "name": "python3",
      "display_name": "Python 3"
    },
    "language_info": {
      "name": "python"
    }
  },
  "cells": [
    {
      "cell_type": "markdown",
      "metadata": {
        "id": "view-in-github",
        "colab_type": "text"
      },
      "source": [
        "<a href=\"https://colab.research.google.com/github/Devanshi-Sharma12/HANDWRITTEN_DIGIT_PREDICTION/blob/main/mostcatchesinT20.ipynb\" target=\"_parent\"><img src=\"https://colab.research.google.com/assets/colab-badge.svg\" alt=\"Open In Colab\"/></a>"
      ]
    },
    {
      "cell_type": "code",
      "execution_count": null,
      "metadata": {
        "colab": {
          "base_uri": "https://localhost:8080/",
          "height": 104
        },
        "id": "QOBpqPG_YNh0",
        "outputId": "bfb1107b-7cf8-40b9-ff20-ae666b68c54d"
      },
      "outputs": [
        {
          "output_type": "stream",
          "name": "stdout",
          "text": [
            "Mounted at /content/drive\n",
            "Changed directory to '/content/drive/My Drive/Documents' successfully.\n",
            "Current working directory: /content/drive/My Drive/Documents\n",
            "CSV file has been created successfully.\n",
            "CSV file 'most_catches_t20_world_cup_2024.csv' exists.\n"
          ]
        },
        {
          "output_type": "display_data",
          "data": {
            "text/plain": [
              "<IPython.core.display.Javascript object>"
            ],
            "application/javascript": [
              "\n",
              "    async function download(id, filename, size) {\n",
              "      if (!google.colab.kernel.accessAllowed) {\n",
              "        return;\n",
              "      }\n",
              "      const div = document.createElement('div');\n",
              "      const label = document.createElement('label');\n",
              "      label.textContent = `Downloading \"${filename}\": `;\n",
              "      div.appendChild(label);\n",
              "      const progress = document.createElement('progress');\n",
              "      progress.max = size;\n",
              "      div.appendChild(progress);\n",
              "      document.body.appendChild(div);\n",
              "\n",
              "      const buffers = [];\n",
              "      let downloaded = 0;\n",
              "\n",
              "      const channel = await google.colab.kernel.comms.open(id);\n",
              "      // Send a message to notify the kernel that we're ready.\n",
              "      channel.send({})\n",
              "\n",
              "      for await (const message of channel.messages) {\n",
              "        // Send a message to notify the kernel that we're ready.\n",
              "        channel.send({})\n",
              "        if (message.buffers) {\n",
              "          for (const buffer of message.buffers) {\n",
              "            buffers.push(buffer);\n",
              "            downloaded += buffer.byteLength;\n",
              "            progress.value = downloaded;\n",
              "          }\n",
              "        }\n",
              "      }\n",
              "      const blob = new Blob(buffers, {type: 'application/binary'});\n",
              "      const a = document.createElement('a');\n",
              "      a.href = window.URL.createObjectURL(blob);\n",
              "      a.download = filename;\n",
              "      div.appendChild(a);\n",
              "      a.click();\n",
              "      div.remove();\n",
              "    }\n",
              "  "
            ]
          },
          "metadata": {}
        },
        {
          "output_type": "display_data",
          "data": {
            "text/plain": [
              "<IPython.core.display.Javascript object>"
            ],
            "application/javascript": [
              "download(\"download_7635fc28-50ef-4a13-9a54-7cfc84320c78\", \"most_catches_t20_world_cup_2024.csv\", 222)"
            ]
          },
          "metadata": {}
        }
      ],
      "source": [
        "# Step 1: Mount Google Drive\n",
        "from google.colab import drive\n",
        "import os\n",
        "\n",
        "drive.mount('/content/drive')\n",
        "\n",
        "# Step 2: Define the path to the Documents folder in Google Drive\n",
        "drive_path = '/content/drive/My Drive'\n",
        "documents_path = os.path.join(drive_path, 'Documents')\n",
        "\n",
        "# Step 3: Check if the Documents folder exists and create it if necessary\n",
        "if not os.path.exists(documents_path):\n",
        "    os.makedirs(documents_path)\n",
        "    print(f\"Created '{documents_path}' directory.\")\n",
        "\n",
        "# Step 4: Change the working directory to the Documents folder\n",
        "os.chdir(documents_path)\n",
        "print(f\"Changed directory to '{documents_path}' successfully.\")\n",
        "print(f\"Current working directory: {os.getcwd()}\")\n",
        "\n",
        "# Step 5: Import pandas and create a CSV file\n",
        "import pandas as pd\n",
        "\n",
        "# Define the data as a list of dictionaries\n",
        "data = [\n",
        "    {\"Player\": \"Aiden Markram\", \"Country\": \"South Africa\", \"Catches\": 8},\n",
        "    {\"Player\": \"Glenn Maxwell\", \"Country\": \"Australia\", \"Catches\": 7},\n",
        "    {\"Player\": \"Harry Brook\", \"Country\": \"England\", \"Catches\": 7},\n",
        "    {\"Player\": \"Tristan Stubbs\", \"Country\": \"South Africa\", \"Catches\": 7},\n",
        "    {\"Player\": \"Tanzim Hasan Sakib\", \"Country\": \"Bangladesh\", \"Catches\": 6},\n",
        "    {\"Player\": \"Mohammad Nabi\", \"Country\": \"Afghanistan\", \"Catches\": 6},\n",
        "    {\"Player\": \"Heinrich Klaasen\", \"Country\": \"South Africa\", \"Catches\": 6}\n",
        "]\n",
        "\n",
        "# Create a DataFrame from the data\n",
        "df = pd.DataFrame(data)\n",
        "\n",
        "# Save the DataFrame to a CSV file\n",
        "csv_file_path = 'most_catches_t20_world_cup_2024.csv'\n",
        "df.to_csv(csv_file_path, index=False)\n",
        "\n",
        "print(\"CSV file has been created successfully.\")\n",
        "\n",
        "# Step 6: Verify the CSV file creation\n",
        "if os.path.exists(csv_file_path):\n",
        "    print(f\"CSV file '{csv_file_path}' exists.\")\n",
        "else:\n",
        "    print(f\"CSV file '{csv_file_path}' does not exist.\")\n",
        "\n",
        "# Step 7: Download the CSV file\n",
        "from google.colab import files\n",
        "files.download(csv_file_path)\n"
      ]
    }
  ]
}